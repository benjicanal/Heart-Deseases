{
 "cells": [
  {
   "cell_type": "markdown",
   "id": "d2b0902a-159e-4aa4-9754-458882eb4537",
   "metadata": {},
   "source": [
    "# Heart Desease Project\n"
   ]
  },
  {
   "cell_type": "code",
   "execution_count": null,
   "id": "3ebfc4ad-39f1-4cde-90b1-2b0e2baf1071",
   "metadata": {},
   "outputs": [],
   "source": [
    "!pip install pandas numpy matplotlib scikit-learn seaborn \n"
   ]
  },
  {
   "cell_type": "markdown",
   "id": "327c22a6-a18f-4944-b623-a906e8082a7a",
   "metadata": {},
   "source": [
    "## 1. Load datas"
   ]
  },
  {
   "cell_type": "code",
   "execution_count": 220,
   "id": "9a79b975-14ab-4f14-8b9e-433995bed811",
   "metadata": {},
   "outputs": [],
   "source": [
    "import pandas as pd \n",
    "import numpy as np\n",
    "import os\n",
    "import seaborn as sns"
   ]
  },
  {
   "cell_type": "code",
   "execution_count": 221,
   "id": "83a11f55-f3e7-456c-bcd2-301db44234b0",
   "metadata": {},
   "outputs": [],
   "source": [
    "# Les données sont dans le dossier 'data'\n",
    "df = pd.read_csv(os.path.join('data','heart.csv'))\n",
    "df_heart = df.copy()"
   ]
  },
  {
   "cell_type": "code",
   "execution_count": 222,
   "id": "52d79f6b-1c95-4888-b514-69ef04837bcf",
   "metadata": {},
   "outputs": [
    {
     "data": {
      "text/html": [
       "<div>\n",
       "<style scoped>\n",
       "    .dataframe tbody tr th:only-of-type {\n",
       "        vertical-align: middle;\n",
       "    }\n",
       "\n",
       "    .dataframe tbody tr th {\n",
       "        vertical-align: top;\n",
       "    }\n",
       "\n",
       "    .dataframe thead th {\n",
       "        text-align: right;\n",
       "    }\n",
       "</style>\n",
       "<table border=\"1\" class=\"dataframe\">\n",
       "  <thead>\n",
       "    <tr style=\"text-align: right;\">\n",
       "      <th></th>\n",
       "      <th>age</th>\n",
       "      <th>sex</th>\n",
       "      <th>cp</th>\n",
       "      <th>trestbps</th>\n",
       "      <th>chol</th>\n",
       "      <th>fbs</th>\n",
       "      <th>restecg</th>\n",
       "      <th>thalach</th>\n",
       "      <th>exang</th>\n",
       "      <th>oldpeak</th>\n",
       "      <th>slope</th>\n",
       "      <th>ca</th>\n",
       "      <th>thal</th>\n",
       "      <th>target</th>\n",
       "    </tr>\n",
       "  </thead>\n",
       "  <tbody>\n",
       "    <tr>\n",
       "      <th>0</th>\n",
       "      <td>52</td>\n",
       "      <td>1</td>\n",
       "      <td>0</td>\n",
       "      <td>125</td>\n",
       "      <td>212</td>\n",
       "      <td>0</td>\n",
       "      <td>1</td>\n",
       "      <td>168</td>\n",
       "      <td>0</td>\n",
       "      <td>1.0</td>\n",
       "      <td>2</td>\n",
       "      <td>2</td>\n",
       "      <td>3</td>\n",
       "      <td>0</td>\n",
       "    </tr>\n",
       "    <tr>\n",
       "      <th>1</th>\n",
       "      <td>53</td>\n",
       "      <td>1</td>\n",
       "      <td>0</td>\n",
       "      <td>140</td>\n",
       "      <td>203</td>\n",
       "      <td>1</td>\n",
       "      <td>0</td>\n",
       "      <td>155</td>\n",
       "      <td>1</td>\n",
       "      <td>3.1</td>\n",
       "      <td>0</td>\n",
       "      <td>0</td>\n",
       "      <td>3</td>\n",
       "      <td>0</td>\n",
       "    </tr>\n",
       "    <tr>\n",
       "      <th>2</th>\n",
       "      <td>70</td>\n",
       "      <td>1</td>\n",
       "      <td>0</td>\n",
       "      <td>145</td>\n",
       "      <td>174</td>\n",
       "      <td>0</td>\n",
       "      <td>1</td>\n",
       "      <td>125</td>\n",
       "      <td>1</td>\n",
       "      <td>2.6</td>\n",
       "      <td>0</td>\n",
       "      <td>0</td>\n",
       "      <td>3</td>\n",
       "      <td>0</td>\n",
       "    </tr>\n",
       "    <tr>\n",
       "      <th>3</th>\n",
       "      <td>61</td>\n",
       "      <td>1</td>\n",
       "      <td>0</td>\n",
       "      <td>148</td>\n",
       "      <td>203</td>\n",
       "      <td>0</td>\n",
       "      <td>1</td>\n",
       "      <td>161</td>\n",
       "      <td>0</td>\n",
       "      <td>0.0</td>\n",
       "      <td>2</td>\n",
       "      <td>1</td>\n",
       "      <td>3</td>\n",
       "      <td>0</td>\n",
       "    </tr>\n",
       "    <tr>\n",
       "      <th>4</th>\n",
       "      <td>62</td>\n",
       "      <td>0</td>\n",
       "      <td>0</td>\n",
       "      <td>138</td>\n",
       "      <td>294</td>\n",
       "      <td>1</td>\n",
       "      <td>1</td>\n",
       "      <td>106</td>\n",
       "      <td>0</td>\n",
       "      <td>1.9</td>\n",
       "      <td>1</td>\n",
       "      <td>3</td>\n",
       "      <td>2</td>\n",
       "      <td>0</td>\n",
       "    </tr>\n",
       "  </tbody>\n",
       "</table>\n",
       "</div>"
      ],
      "text/plain": [
       "   age  sex  cp  trestbps  chol  fbs  restecg  thalach  exang  oldpeak  slope  \\\n",
       "0   52    1   0       125   212    0        1      168      0      1.0      2   \n",
       "1   53    1   0       140   203    1        0      155      1      3.1      0   \n",
       "2   70    1   0       145   174    0        1      125      1      2.6      0   \n",
       "3   61    1   0       148   203    0        1      161      0      0.0      2   \n",
       "4   62    0   0       138   294    1        1      106      0      1.9      1   \n",
       "\n",
       "   ca  thal  target  \n",
       "0   2     3       0  \n",
       "1   0     3       0  \n",
       "2   0     3       0  \n",
       "3   1     3       0  \n",
       "4   3     2       0  "
      ]
     },
     "execution_count": 222,
     "metadata": {},
     "output_type": "execute_result"
    }
   ],
   "source": [
    "df_heart.head(5)"
   ]
  },
  {
   "cell_type": "markdown",
   "id": "afb0923c-dc13-4735-a262-4a15e91f49a4",
   "metadata": {},
   "source": [
    "Décrivons les variables pour une meilleure compréhension du jeu de données : \n",
    "- 1. age \n",
    "- 2. sex\n",
    "- 3. chest pain type (4 values) --> TA: Typical Angina, ATA: Atypical Angina, NAP: Non-Anginal Pain, ASY: Asymptomatic\n",
    "- 4. resting blood pressure en mmHg\n",
    "- 5. serum cholestoral in mg/dl\n",
    "- 6. fasting blood sugar > 120 mg/dl\n",
    "- 7. resting electrocardiographic results (values 0,1,2)\n",
    "- 8. maximum heart rate achieved\n",
    "- 9. exercise induced angina\n",
    "- 10. oldpeak = ST depression induced by exercise relative to rest\n",
    "- 11. the slope of the peak exercise ST segment\n",
    "- 12. number of major vessels (0-3) colored by flourosopy\n",
    "- 13. thal: 0 = normal; 1 = fixed defect; 2 = reversable defect"
   ]
  },
  {
   "cell_type": "markdown",
   "id": "6716c161-90d1-4b36-981b-e663c5a64ba5",
   "metadata": {},
   "source": [
    "## 2. EDA"
   ]
  },
  {
   "cell_type": "code",
   "execution_count": 223,
   "id": "138cb6b0-bf16-495f-a13d-e25c1385911c",
   "metadata": {},
   "outputs": [],
   "source": [
    "from matplotlib import pyplot as plt\n",
    "# %matplotlib inline"
   ]
  },
  {
   "cell_type": "code",
   "execution_count": 224,
   "id": "9f6006b8-322e-4414-bf0f-e4a99fc41911",
   "metadata": {},
   "outputs": [
    {
     "data": {
      "text/plain": [
       "(1025, 14)"
      ]
     },
     "execution_count": 224,
     "metadata": {},
     "output_type": "execute_result"
    }
   ],
   "source": [
    "df_heart.shape # On a 1025 lignes (patients) et 14 variables "
   ]
  },
  {
   "cell_type": "code",
   "execution_count": 225,
   "id": "4b3816ef-8c19-4884-982c-b199eb8de2c6",
   "metadata": {},
   "outputs": [
    {
     "data": {
      "text/plain": [
       "([<matplotlib.patches.Wedge at 0x1434b217230>,\n",
       "  <matplotlib.patches.Wedge at 0x1434afeda30>],\n",
       " [Text(-0.04550175175760134, 1.0990585018946852, ''),\n",
       "  Text(0.04550175175760096, -1.0990585018946852, '')],\n",
       " [Text(-0.024819137322328003, 0.5994864555789191, '51.32%'),\n",
       "  Text(0.024819137322327794, -0.5994864555789191, '48.68%')])"
      ]
     },
     "execution_count": 225,
     "metadata": {},
     "output_type": "execute_result"
    },
    {
     "data": {
      "image/png": "[encoded data removed]",
      "text/plain": [
       "<Figure size 640x480 with 1 Axes>"
      ]
     },
     "metadata": {},
     "output_type": "display_data"
    }
   ],
   "source": [
    "plt.pie(df_heart['target'].value_counts(),autopct='%1.2f%%')\n",
    "# On voit que les données sont assez équilibrées : 51.32% de non malade et 48.68% de malade "
   ]
  },
  {
   "cell_type": "code",
   "execution_count": 227,
   "id": "dfcffaed-3016-47b0-b381-b658d33d8c65",
   "metadata": {},
   "outputs": [
    {
     "data": {
      "text/plain": [
       "int64      13\n",
       "float64     1\n",
       "Name: count, dtype: int64"
      ]
     },
     "execution_count": 227,
     "metadata": {},
     "output_type": "execute_result"
    }
   ],
   "source": [
    "df_heart.dtypes.value_counts() # On a uniquement des valeurs numériques 13 int et 1 float"
   ]
  },
  {
   "cell_type": "code",
   "execution_count": 228,
   "id": "7f31c292-a821-49a1-87d4-5bf8b49ea15b",
   "metadata": {},
   "outputs": [
    {
     "data": {
      "text/html": [
       "<div>\n",
       "<style scoped>\n",
       "    .dataframe tbody tr th:only-of-type {\n",
       "        vertical-align: middle;\n",
       "    }\n",
       "\n",
       "    .dataframe tbody tr th {\n",
       "        vertical-align: top;\n",
       "    }\n",
       "\n",
       "    .dataframe thead th {\n",
       "        text-align: right;\n",
       "    }\n",
       "</style>\n",
       "<table border=\"1\" class=\"dataframe\">\n",
       "  <thead>\n",
       "    <tr style=\"text-align: right;\">\n",
       "      <th></th>\n",
       "      <th>age</th>\n",
       "      <th>sex</th>\n",
       "      <th>cp</th>\n",
       "      <th>trestbps</th>\n",
       "      <th>chol</th>\n",
       "      <th>fbs</th>\n",
       "      <th>restecg</th>\n",
       "      <th>thalach</th>\n",
       "      <th>exang</th>\n",
       "      <th>oldpeak</th>\n",
       "      <th>slope</th>\n",
       "      <th>ca</th>\n",
       "      <th>thal</th>\n",
       "      <th>target</th>\n",
       "    </tr>\n",
       "  </thead>\n",
       "  <tbody>\n",
       "    <tr>\n",
       "      <th>count</th>\n",
       "      <td>1025.000000</td>\n",
       "      <td>1025.000000</td>\n",
       "      <td>1025.000000</td>\n",
       "      <td>1025.000000</td>\n",
       "      <td>1025.00000</td>\n",
       "      <td>1025.000000</td>\n",
       "      <td>1025.000000</td>\n",
       "      <td>1025.000000</td>\n",
       "      <td>1025.000000</td>\n",
       "      <td>1025.000000</td>\n",
       "      <td>1025.000000</td>\n",
       "      <td>1025.000000</td>\n",
       "      <td>1025.000000</td>\n",
       "      <td>1025.000000</td>\n",
       "    </tr>\n",
       "    <tr>\n",
       "      <th>mean</th>\n",
       "      <td>54.434146</td>\n",
       "      <td>0.695610</td>\n",
       "      <td>0.942439</td>\n",
       "      <td>131.611707</td>\n",
       "      <td>246.00000</td>\n",
       "      <td>0.149268</td>\n",
       "      <td>0.529756</td>\n",
       "      <td>149.114146</td>\n",
       "      <td>0.336585</td>\n",
       "      <td>1.071512</td>\n",
       "      <td>1.385366</td>\n",
       "      <td>0.754146</td>\n",
       "      <td>2.323902</td>\n",
       "      <td>0.513171</td>\n",
       "    </tr>\n",
       "    <tr>\n",
       "      <th>std</th>\n",
       "      <td>9.072290</td>\n",
       "      <td>0.460373</td>\n",
       "      <td>1.029641</td>\n",
       "      <td>17.516718</td>\n",
       "      <td>51.59251</td>\n",
       "      <td>0.356527</td>\n",
       "      <td>0.527878</td>\n",
       "      <td>23.005724</td>\n",
       "      <td>0.472772</td>\n",
       "      <td>1.175053</td>\n",
       "      <td>0.617755</td>\n",
       "      <td>1.030798</td>\n",
       "      <td>0.620660</td>\n",
       "      <td>0.500070</td>\n",
       "    </tr>\n",
       "    <tr>\n",
       "      <th>min</th>\n",
       "      <td>29.000000</td>\n",
       "      <td>0.000000</td>\n",
       "      <td>0.000000</td>\n",
       "      <td>94.000000</td>\n",
       "      <td>126.00000</td>\n",
       "      <td>0.000000</td>\n",
       "      <td>0.000000</td>\n",
       "      <td>71.000000</td>\n",
       "      <td>0.000000</td>\n",
       "      <td>0.000000</td>\n",
       "      <td>0.000000</td>\n",
       "      <td>0.000000</td>\n",
       "      <td>0.000000</td>\n",
       "      <td>0.000000</td>\n",
       "    </tr>\n",
       "    <tr>\n",
       "      <th>25%</th>\n",
       "      <td>48.000000</td>\n",
       "      <td>0.000000</td>\n",
       "      <td>0.000000</td>\n",
       "      <td>120.000000</td>\n",
       "      <td>211.00000</td>\n",
       "      <td>0.000000</td>\n",
       "      <td>0.000000</td>\n",
       "      <td>132.000000</td>\n",
       "      <td>0.000000</td>\n",
       "      <td>0.000000</td>\n",
       "      <td>1.000000</td>\n",
       "      <td>0.000000</td>\n",
       "      <td>2.000000</td>\n",
       "      <td>0.000000</td>\n",
       "    </tr>\n",
       "    <tr>\n",
       "      <th>50%</th>\n",
       "      <td>56.000000</td>\n",
       "      <td>1.000000</td>\n",
       "      <td>1.000000</td>\n",
       "      <td>130.000000</td>\n",
       "      <td>240.00000</td>\n",
       "      <td>0.000000</td>\n",
       "      <td>1.000000</td>\n",
       "      <td>152.000000</td>\n",
       "      <td>0.000000</td>\n",
       "      <td>0.800000</td>\n",
       "      <td>1.000000</td>\n",
       "      <td>0.000000</td>\n",
       "      <td>2.000000</td>\n",
       "      <td>1.000000</td>\n",
       "    </tr>\n",
       "    <tr>\n",
       "      <th>75%</th>\n",
       "      <td>61.000000</td>\n",
       "      <td>1.000000</td>\n",
       "      <td>2.000000</td>\n",
       "      <td>140.000000</td>\n",
       "      <td>275.00000</td>\n",
       "      <td>0.000000</td>\n",
       "      <td>1.000000</td>\n",
       "      <td>166.000000</td>\n",
       "      <td>1.000000</td>\n",
       "      <td>1.800000</td>\n",
       "      <td>2.000000</td>\n",
       "      <td>1.000000</td>\n",
       "      <td>3.000000</td>\n",
       "      <td>1.000000</td>\n",
       "    </tr>\n",
       "    <tr>\n",
       "      <th>max</th>\n",
       "      <td>77.000000</td>\n",
       "      <td>1.000000</td>\n",
       "      <td>3.000000</td>\n",
       "      <td>200.000000</td>\n",
       "      <td>564.00000</td>\n",
       "      <td>1.000000</td>\n",
       "      <td>2.000000</td>\n",
       "      <td>202.000000</td>\n",
       "      <td>1.000000</td>\n",
       "      <td>6.200000</td>\n",
       "      <td>2.000000</td>\n",
       "      <td>4.000000</td>\n",
       "      <td>3.000000</td>\n",
       "      <td>1.000000</td>\n",
       "    </tr>\n",
       "  </tbody>\n",
       "</table>\n",
       "</div>"
      ],
      "text/plain": [
       "               age          sex           cp     trestbps        chol  \\\n",
       "count  1025.000000  1025.000000  1025.000000  1025.000000  1025.00000   \n",
       "mean     54.434146     0.695610     0.942439   131.611707   246.00000   \n",
       "std       9.072290     0.460373     1.029641    17.516718    51.59251   \n",
       "min      29.000000     0.000000     0.000000    94.000000   126.00000   \n",
       "25%      48.000000     0.000000     0.000000   120.000000   211.00000   \n",
       "50%      56.000000     1.000000     1.000000   130.000000   240.00000   \n",
       "75%      61.000000     1.000000     2.000000   140.000000   275.00000   \n",
       "max      77.000000     1.000000     3.000000   200.000000   564.00000   \n",
       "\n",
       "               fbs      restecg      thalach        exang      oldpeak  \\\n",
       "count  1025.000000  1025.000000  1025.000000  1025.000000  1025.000000   \n",
       "mean      0.149268     0.529756   149.114146     0.336585     1.071512   \n",
       "std       0.356527     0.527878    23.005724     0.472772     1.175053   \n",
       "min       0.000000     0.000000    71.000000     0.000000     0.000000   \n",
       "25%       0.000000     0.000000   132.000000     0.000000     0.000000   \n",
       "50%       0.000000     1.000000   152.000000     0.000000     0.800000   \n",
       "75%       0.000000     1.000000   166.000000     1.000000     1.800000   \n",
       "max       1.000000     2.000000   202.000000     1.000000     6.200000   \n",
       "\n",
       "             slope           ca         thal       target  \n",
       "count  1025.000000  1025.000000  1025.000000  1025.000000  \n",
       "mean      1.385366     0.754146     2.323902     0.513171  \n",
       "std       0.617755     1.030798     0.620660     0.500070  \n",
       "min       0.000000     0.000000     0.000000     0.000000  \n",
       "25%       1.000000     0.000000     2.000000     0.000000  \n",
       "50%       1.000000     0.000000     2.000000     1.000000  \n",
       "75%       2.000000     1.000000     3.000000     1.000000  \n",
       "max       2.000000     4.000000     3.000000     1.000000  "
      ]
     },
     "execution_count": 228,
     "metadata": {},
     "output_type": "execute_result"
    }
   ],
   "source": [
    "df_heart.describe() #Pour voir les statistiques descriptives de base "
   ]
  },
  {
   "cell_type": "markdown",
   "id": "6f3cb2ad-f77d-42d5-9b8e-5b245bc144d9",
   "metadata": {},
   "source": [
    "On peut se demander qui entre les hommes et les femmes ont le plus d'attaques du coeur"
   ]
  },
  {
   "cell_type": "code",
   "execution_count": 229,
   "id": "f1ad97b7-37a2-47c5-bc5a-0f8f0a932e4c",
   "metadata": {},
   "outputs": [
    {
     "name": "stderr",
     "output_type": "stream",
     "text": [
      "C:\\Users\\fares\\AppData\\Local\\Temp\\ipykernel_22856\\2616283950.py:2: UserWarning: set_ticklabels() should only be used with a fixed number of ticks, i.e. after set_ticks() or using a FixedLocator.\n",
      "  fig.set_xticklabels(labels = ['No heart desease', 'heart desease'])\n"
     ]
    },
    {
     "data": {
      "image/png": "[encoded data removed]",
      "text/plain": [
       "<Figure size 640x480 with 1 Axes>"
      ]
     },
     "metadata": {},
     "output_type": "display_data"
    }
   ],
   "source": [
    "fig = sns.countplot(df_heart, x = 'sex', hue ='target')\n",
    "fig.set_xticklabels(labels = ['No heart desease', 'heart desease'])\n",
    "plt.legend(['female','male'])\n",
    "plt.title(\"Proportion de maladie du coeur par genre\")\n",
    "plt.show()"
   ]
  },
  {
   "cell_type": "markdown",
   "id": "d00bd38a-aee0-4882-996b-898b4e18ed87",
   "metadata": {},
   "source": [
    "On peut maintenant se demander quelles sont les types de douleurs thoraciques pour chaque sex "
   ]
  },
  {
   "cell_type": "code",
   "execution_count": 230,
   "id": "57a3effb-228d-4276-90c5-4168067c71d0",
   "metadata": {},
   "outputs": [
    {
     "data": {
      "text/plain": [
       "Text(0.5, 1.0, 'Type de douleurs par genre')"
      ]
     },
     "execution_count": 230,
     "metadata": {},
     "output_type": "execute_result"
    },
    {
     "data": {
      "image/png": "[encoded data removed]",
      "text/plain": [
       "<Figure size 640x480 with 1 Axes>"
      ]
     },
     "metadata": {},
     "output_type": "display_data"
    }
   ],
   "source": [
    "fig = pd.crosstab(df_heart.sex, df_heart.cp).plot(kind = 'bar', color =['coral', 'lightskyblue', 'plum', 'khaki'])\n",
    "fig.set_xticklabels(labels = ['Female', 'male'])\n",
    "plt.legend(['Typical Angina', 'Atypical Angina','Non-Anginal Pain','Asymptomatic'])\n",
    "plt.title('Type de douleurs par genre')\n"
   ]
  },
  {
   "cell_type": "markdown",
   "id": "7b75c51d-a086-4835-af9e-be3a60de89e1",
   "metadata": {},
   "source": [
    "On voit que la proportion par genre reste assez similaire "
   ]
  },
  {
   "cell_type": "markdown",
   "id": "98d82f9f-81f9-4882-99d4-970454b71d0b",
   "metadata": {},
   "source": [
    "on peut se demander quel est le type de douleur qui est le plus à même d'entrainer une maladie du coeur"
   ]
  },
  {
   "cell_type": "code",
   "execution_count": 231,
   "id": "707cc14a-ef76-429f-a0ff-311f53fc230b",
   "metadata": {},
   "outputs": [
    {
     "data": {
      "text/html": [
       "<div>\n",
       "<style scoped>\n",
       "    .dataframe tbody tr th:only-of-type {\n",
       "        vertical-align: middle;\n",
       "    }\n",
       "\n",
       "    .dataframe tbody tr th {\n",
       "        vertical-align: top;\n",
       "    }\n",
       "\n",
       "    .dataframe thead th {\n",
       "        text-align: right;\n",
       "    }\n",
       "</style>\n",
       "<table border=\"1\" class=\"dataframe\">\n",
       "  <thead>\n",
       "    <tr style=\"text-align: right;\">\n",
       "      <th>target</th>\n",
       "      <th>0</th>\n",
       "      <th>1</th>\n",
       "      <th>% de malade par cp</th>\n",
       "    </tr>\n",
       "    <tr>\n",
       "      <th>cp</th>\n",
       "      <th></th>\n",
       "      <th></th>\n",
       "      <th></th>\n",
       "    </tr>\n",
       "  </thead>\n",
       "  <tbody>\n",
       "    <tr>\n",
       "      <th>0</th>\n",
       "      <td>375</td>\n",
       "      <td>122</td>\n",
       "      <td>24.547284</td>\n",
       "    </tr>\n",
       "    <tr>\n",
       "      <th>1</th>\n",
       "      <td>33</td>\n",
       "      <td>134</td>\n",
       "      <td>80.239521</td>\n",
       "    </tr>\n",
       "    <tr>\n",
       "      <th>2</th>\n",
       "      <td>65</td>\n",
       "      <td>219</td>\n",
       "      <td>77.112676</td>\n",
       "    </tr>\n",
       "    <tr>\n",
       "      <th>3</th>\n",
       "      <td>26</td>\n",
       "      <td>51</td>\n",
       "      <td>66.233766</td>\n",
       "    </tr>\n",
       "  </tbody>\n",
       "</table>\n",
       "</div>"
      ],
      "text/plain": [
       "target    0    1  % de malade par cp\n",
       "cp                                  \n",
       "0       375  122           24.547284\n",
       "1        33  134           80.239521\n",
       "2        65  219           77.112676\n",
       "3        26   51           66.233766"
      ]
     },
     "execution_count": 231,
     "metadata": {},
     "output_type": "execute_result"
    }
   ],
   "source": [
    "crosstab = pd.crosstab(df_heart.cp,df_heart.target)\n",
    "crosstab['% de malade par cp'] = (crosstab[1] / crosstab.sum(axis=1)) *100\n",
    "crosstab"
   ]
  },
  {
   "cell_type": "code",
   "execution_count": 232,
   "id": "fca4ed8b-02a1-402b-9b15-cdce15964a07",
   "metadata": {},
   "outputs": [
    {
     "data": {
      "image/png": "[encoded data removed]",
      "text/plain": [
       "<Figure size 640x480 with 1 Axes>"
      ]
     },
     "metadata": {},
     "output_type": "display_data"
    }
   ],
   "source": [
    "fig = sns.countplot(data=df_heart, x = 'cp', hue = 'target')"
   ]
  },
  {
   "cell_type": "markdown",
   "id": "e83b937d-66e7-46d9-822e-9f5f85810628",
   "metadata": {},
   "source": [
    "On peut maintenant voir la distribution du max heart rate  avec les personnes ayant une maladie du coeur "
   ]
  },
  {
   "cell_type": "code",
   "execution_count": 233,
   "id": "b28da8df-4263-4a18-a4f4-875793f35082",
   "metadata": {},
   "outputs": [],
   "source": [
    "a = df_heart['thalach'][df_heart['target'] == 1].reset_index()"
   ]
  },
  {
   "cell_type": "code",
   "execution_count": 234,
   "id": "4896faf5-a45d-43bf-9e87-7ce63374931d",
   "metadata": {},
   "outputs": [
    {
     "data": {
      "text/plain": [
       "Text(16.694444444444443, 0.5, 'People with desease')"
      ]
     },
     "execution_count": 234,
     "metadata": {},
     "output_type": "execute_result"
    },
    {
     "data": {
      "image/png": "[encoded data removed]",
      "text/plain": [
       "<Figure size 500x500 with 1 Axes>"
      ]
     },
     "metadata": {},
     "output_type": "display_data"
    }
   ],
   "source": [
    "sns.displot(x=df_heart['thalach'][df_heart['target'] == 1], data = df_heart, kde =True, color ='olive')\n",
    "plt.title(\"Distribution du max heart rate pour les patients atteints d'une maladie du coeur\")\n",
    "mean_thalach = df_heart['thalach'][df_heart['target'] == 1].mean()\n",
    "plt.axvline(mean_thalach, color='red', linestyle='--', label=f'Moyenne = {mean_thalach:.2f}')\n",
    "plt.legend()\n",
    "plt.xlabel('Max heart rate')\n",
    "plt.ylabel('People with desease')"
   ]
  },
  {
   "cell_type": "code",
   "execution_count": null,
   "id": "19823b0a-c0db-4b21-a88d-60b9091dab7c",
   "metadata": {},
   "outputs": [],
   "source": [
    "# !pip install ydata-profiling #Pour créer un report "
   ]
  },
  {
   "cell_type": "code",
   "execution_count": null,
   "id": "2cc79bb2-4ec2-4e8f-9d06-a32aecb69a58",
   "metadata": {},
   "outputs": [],
   "source": [
    "# import sys\n",
    "# !{sys.executable} -m pip install -U ydata-profiling[notebook]\n",
    "# !pip install jupyter-contrib-nbextensions"
   ]
  },
  {
   "cell_type": "code",
   "execution_count": 14,
   "id": "be7f23b6-fb1d-47c9-87f2-661884262e31",
   "metadata": {},
   "outputs": [
    {
     "name": "stderr",
     "output_type": "stream",
     "text": [
      "Enabling notebook extension jupyter-js-widgets/extension...\n",
      "      - Validating: ok\n"
     ]
    }
   ],
   "source": [
    "!jupyter nbextension enable --py widgetsnbextension\n"
   ]
  },
  {
   "cell_type": "code",
   "execution_count": 15,
   "id": "c655facb-15c6-4d7b-838e-a576b44c93ea",
   "metadata": {},
   "outputs": [],
   "source": [
    "from ydata_profiling import ProfileReport # Permet de créer un report consultable soit sur le notebook sur via un fichier html\n"
   ]
  },
  {
   "cell_type": "code",
   "execution_count": 84,
   "id": "152464ae-890f-4f2e-a6cf-406515f48fd6",
   "metadata": {},
   "outputs": [],
   "source": [
    "profile = ProfileReport(df_heart, title = 'Reporting Heart Desease')"
   ]
  },
  {
   "cell_type": "code",
   "execution_count": null,
   "id": "ffeda072-1c79-4049-887f-3f0d25f41427",
   "metadata": {
    "scrolled": true
   },
   "outputs": [],
   "source": [
    "profile.to_notebook_iframe()\n",
    "profile.to_file(\"heartdesease.html\")"
   ]
  },
  {
   "cell_type": "markdown",
   "id": "46563a09-2bf4-4ef4-881e-76e0c5d3aea3",
   "metadata": {},
   "source": [
    "**On peut maintenant s'interesser à voir les relations entre nos variables**"
   ]
  },
  {
   "cell_type": "code",
   "execution_count": null,
   "id": "ce2ebea8-db2a-4bf8-8394-819d3795431a",
   "metadata": {},
   "outputs": [],
   "source": [
    "sns.pairplot(df_heart)"
   ]
  },
  {
   "cell_type": "code",
   "execution_count": 235,
   "id": "1d94dd34-4c02-4b40-b052-cf48d704af27",
   "metadata": {},
   "outputs": [
    {
     "data": {
      "text/plain": [
       "<Axes: >"
      ]
     },
     "execution_count": 235,
     "metadata": {},
     "output_type": "execute_result"
    },
    {
     "data": {
      "image/png": "[encoded data removed]",
      "text/plain": [
       "<Figure size 640x480 with 2 Axes>"
      ]
     },
     "metadata": {},
     "output_type": "display_data"
    }
   ],
   "source": [
    "sns.heatmap(df_heart.corr()) # le cp et tal pas mal corélé"
   ]
  },
  {
   "cell_type": "code",
   "execution_count": null,
   "id": "f00689b7-4fd5-4716-a6d4-a38d4b020dd1",
   "metadata": {
    "scrolled": true
   },
   "outputs": [],
   "source": [
    "for col in df_heart.columns :  #On peut voir qu'on a un outlier dans la variable cholesterol qui est bcp trop élevé\n",
    "    plt.figure()\n",
    "    sns.histplot(df_heart[col])"
   ]
  },
  {
   "cell_type": "markdown",
   "id": "b10eaa9b-40a1-4f46-a090-f5eae9e4bd56",
   "metadata": {},
   "source": [
    "**Traitement de l'outlyer**"
   ]
  },
  {
   "cell_type": "code",
   "execution_count": 43,
   "id": "dbc18366-3963-4ce6-bf1a-506e853a9409",
   "metadata": {},
   "outputs": [],
   "source": [
    "from scipy import stats"
   ]
  },
  {
   "cell_type": "code",
   "execution_count": 69,
   "id": "95a94c89-c39c-4982-84b3-82444913d85a",
   "metadata": {},
   "outputs": [],
   "source": [
    "df_heart['z_score'] = stats.zscore(df_heart['chol'])\n",
    "outliers = df_heart[(df_heart['z_score'] > 3.5) | (df_heart['z_score'] < -3.5)]\n"
   ]
  },
  {
   "cell_type": "code",
   "execution_count": 70,
   "id": "ac5318ff-e9c8-455e-8a6f-53d486974a1e",
   "metadata": {},
   "outputs": [
    {
     "data": {
      "text/html": [
       "<div>\n",
       "<style scoped>\n",
       "    .dataframe tbody tr th:only-of-type {\n",
       "        vertical-align: middle;\n",
       "    }\n",
       "\n",
       "    .dataframe tbody tr th {\n",
       "        vertical-align: top;\n",
       "    }\n",
       "\n",
       "    .dataframe thead th {\n",
       "        text-align: right;\n",
       "    }\n",
       "</style>\n",
       "<table border=\"1\" class=\"dataframe\">\n",
       "  <thead>\n",
       "    <tr style=\"text-align: right;\">\n",
       "      <th></th>\n",
       "      <th>age</th>\n",
       "      <th>sex</th>\n",
       "      <th>cp</th>\n",
       "      <th>trestbps</th>\n",
       "      <th>chol</th>\n",
       "      <th>fbs</th>\n",
       "      <th>restecg</th>\n",
       "      <th>thalach</th>\n",
       "      <th>exang</th>\n",
       "      <th>oldpeak</th>\n",
       "      <th>slope</th>\n",
       "      <th>ca</th>\n",
       "      <th>thal</th>\n",
       "      <th>target</th>\n",
       "      <th>z_score</th>\n",
       "    </tr>\n",
       "  </thead>\n",
       "  <tbody>\n",
       "    <tr>\n",
       "      <th>158</th>\n",
       "      <td>67</td>\n",
       "      <td>0</td>\n",
       "      <td>2</td>\n",
       "      <td>115</td>\n",
       "      <td>564</td>\n",
       "      <td>0</td>\n",
       "      <td>0</td>\n",
       "      <td>160</td>\n",
       "      <td>0</td>\n",
       "      <td>1.6</td>\n",
       "      <td>1</td>\n",
       "      <td>0</td>\n",
       "      <td>3</td>\n",
       "      <td>1</td>\n",
       "      <td>6.166694</td>\n",
       "    </tr>\n",
       "    <tr>\n",
       "      <th>192</th>\n",
       "      <td>67</td>\n",
       "      <td>0</td>\n",
       "      <td>2</td>\n",
       "      <td>115</td>\n",
       "      <td>564</td>\n",
       "      <td>0</td>\n",
       "      <td>0</td>\n",
       "      <td>160</td>\n",
       "      <td>0</td>\n",
       "      <td>1.6</td>\n",
       "      <td>1</td>\n",
       "      <td>0</td>\n",
       "      <td>3</td>\n",
       "      <td>1</td>\n",
       "      <td>6.166694</td>\n",
       "    </tr>\n",
       "    <tr>\n",
       "      <th>464</th>\n",
       "      <td>67</td>\n",
       "      <td>0</td>\n",
       "      <td>2</td>\n",
       "      <td>115</td>\n",
       "      <td>564</td>\n",
       "      <td>0</td>\n",
       "      <td>0</td>\n",
       "      <td>160</td>\n",
       "      <td>0</td>\n",
       "      <td>1.6</td>\n",
       "      <td>1</td>\n",
       "      <td>0</td>\n",
       "      <td>3</td>\n",
       "      <td>1</td>\n",
       "      <td>6.166694</td>\n",
       "    </tr>\n",
       "  </tbody>\n",
       "</table>\n",
       "</div>"
      ],
      "text/plain": [
       "     age  sex  cp  trestbps  chol  fbs  restecg  thalach  exang  oldpeak  \\\n",
       "158   67    0   2       115   564    0        0      160      0      1.6   \n",
       "192   67    0   2       115   564    0        0      160      0      1.6   \n",
       "464   67    0   2       115   564    0        0      160      0      1.6   \n",
       "\n",
       "     slope  ca  thal  target   z_score  \n",
       "158      1   0     3       1  6.166694  \n",
       "192      1   0     3       1  6.166694  \n",
       "464      1   0     3       1  6.166694  "
      ]
     },
     "execution_count": 70,
     "metadata": {},
     "output_type": "execute_result"
    }
   ],
   "source": [
    "outliers #On a bien un outlier qui est dupliqué 3 fois"
   ]
  },
  {
   "cell_type": "markdown",
   "id": "5f827fbf-6ba1-4f25-80fd-20db0312b938",
   "metadata": {},
   "source": [
    "## 3. Data Pre Processing"
   ]
  },
  {
   "cell_type": "code",
   "execution_count": 236,
   "id": "5849aa9a-dac3-4491-9d1a-52c344722614",
   "metadata": {},
   "outputs": [
    {
     "data": {
      "text/plain": [
       "age         0\n",
       "sex         0\n",
       "cp          0\n",
       "trestbps    0\n",
       "chol        0\n",
       "fbs         0\n",
       "restecg     0\n",
       "thalach     0\n",
       "exang       0\n",
       "oldpeak     0\n",
       "slope       0\n",
       "ca          0\n",
       "thal        0\n",
       "target      0\n",
       "dtype: int64"
      ]
     },
     "execution_count": 236,
     "metadata": {},
     "output_type": "execute_result"
    }
   ],
   "source": [
    "df_heart.isna().sum() # Aucune valeur manquante"
   ]
  },
  {
   "cell_type": "code",
   "execution_count": 72,
   "id": "91efeedb-5e92-4dde-8641-2a70baa58941",
   "metadata": {},
   "outputs": [
    {
     "data": {
      "text/html": [
       "<div>\n",
       "<style scoped>\n",
       "    .dataframe tbody tr th:only-of-type {\n",
       "        vertical-align: middle;\n",
       "    }\n",
       "\n",
       "    .dataframe tbody tr th {\n",
       "        vertical-align: top;\n",
       "    }\n",
       "\n",
       "    .dataframe thead th {\n",
       "        text-align: right;\n",
       "    }\n",
       "</style>\n",
       "<table border=\"1\" class=\"dataframe\">\n",
       "  <thead>\n",
       "    <tr style=\"text-align: right;\">\n",
       "      <th></th>\n",
       "      <th>age</th>\n",
       "      <th>sex</th>\n",
       "      <th>cp</th>\n",
       "      <th>trestbps</th>\n",
       "      <th>chol</th>\n",
       "      <th>fbs</th>\n",
       "      <th>restecg</th>\n",
       "      <th>thalach</th>\n",
       "      <th>exang</th>\n",
       "      <th>oldpeak</th>\n",
       "      <th>slope</th>\n",
       "      <th>ca</th>\n",
       "      <th>thal</th>\n",
       "      <th>target</th>\n",
       "      <th>z_score</th>\n",
       "    </tr>\n",
       "  </thead>\n",
       "  <tbody>\n",
       "    <tr>\n",
       "      <th>0</th>\n",
       "      <td>52</td>\n",
       "      <td>1</td>\n",
       "      <td>0</td>\n",
       "      <td>125</td>\n",
       "      <td>212</td>\n",
       "      <td>0</td>\n",
       "      <td>1</td>\n",
       "      <td>168</td>\n",
       "      <td>0</td>\n",
       "      <td>1.0</td>\n",
       "      <td>2</td>\n",
       "      <td>2</td>\n",
       "      <td>3</td>\n",
       "      <td>0</td>\n",
       "      <td>-0.659332</td>\n",
       "    </tr>\n",
       "    <tr>\n",
       "      <th>1</th>\n",
       "      <td>53</td>\n",
       "      <td>1</td>\n",
       "      <td>0</td>\n",
       "      <td>140</td>\n",
       "      <td>203</td>\n",
       "      <td>1</td>\n",
       "      <td>0</td>\n",
       "      <td>155</td>\n",
       "      <td>1</td>\n",
       "      <td>3.1</td>\n",
       "      <td>0</td>\n",
       "      <td>0</td>\n",
       "      <td>3</td>\n",
       "      <td>0</td>\n",
       "      <td>-0.833861</td>\n",
       "    </tr>\n",
       "    <tr>\n",
       "      <th>2</th>\n",
       "      <td>70</td>\n",
       "      <td>1</td>\n",
       "      <td>0</td>\n",
       "      <td>145</td>\n",
       "      <td>174</td>\n",
       "      <td>0</td>\n",
       "      <td>1</td>\n",
       "      <td>125</td>\n",
       "      <td>1</td>\n",
       "      <td>2.6</td>\n",
       "      <td>0</td>\n",
       "      <td>0</td>\n",
       "      <td>3</td>\n",
       "      <td>0</td>\n",
       "      <td>-1.396233</td>\n",
       "    </tr>\n",
       "    <tr>\n",
       "      <th>3</th>\n",
       "      <td>61</td>\n",
       "      <td>1</td>\n",
       "      <td>0</td>\n",
       "      <td>148</td>\n",
       "      <td>203</td>\n",
       "      <td>0</td>\n",
       "      <td>1</td>\n",
       "      <td>161</td>\n",
       "      <td>0</td>\n",
       "      <td>0.0</td>\n",
       "      <td>2</td>\n",
       "      <td>1</td>\n",
       "      <td>3</td>\n",
       "      <td>0</td>\n",
       "      <td>-0.833861</td>\n",
       "    </tr>\n",
       "    <tr>\n",
       "      <th>4</th>\n",
       "      <td>62</td>\n",
       "      <td>0</td>\n",
       "      <td>0</td>\n",
       "      <td>138</td>\n",
       "      <td>294</td>\n",
       "      <td>1</td>\n",
       "      <td>1</td>\n",
       "      <td>106</td>\n",
       "      <td>0</td>\n",
       "      <td>1.9</td>\n",
       "      <td>1</td>\n",
       "      <td>3</td>\n",
       "      <td>2</td>\n",
       "      <td>0</td>\n",
       "      <td>0.930822</td>\n",
       "    </tr>\n",
       "    <tr>\n",
       "      <th>...</th>\n",
       "      <td>...</td>\n",
       "      <td>...</td>\n",
       "      <td>...</td>\n",
       "      <td>...</td>\n",
       "      <td>...</td>\n",
       "      <td>...</td>\n",
       "      <td>...</td>\n",
       "      <td>...</td>\n",
       "      <td>...</td>\n",
       "      <td>...</td>\n",
       "      <td>...</td>\n",
       "      <td>...</td>\n",
       "      <td>...</td>\n",
       "      <td>...</td>\n",
       "      <td>...</td>\n",
       "    </tr>\n",
       "    <tr>\n",
       "      <th>723</th>\n",
       "      <td>68</td>\n",
       "      <td>0</td>\n",
       "      <td>2</td>\n",
       "      <td>120</td>\n",
       "      <td>211</td>\n",
       "      <td>0</td>\n",
       "      <td>0</td>\n",
       "      <td>115</td>\n",
       "      <td>0</td>\n",
       "      <td>1.5</td>\n",
       "      <td>1</td>\n",
       "      <td>0</td>\n",
       "      <td>2</td>\n",
       "      <td>1</td>\n",
       "      <td>-0.678724</td>\n",
       "    </tr>\n",
       "    <tr>\n",
       "      <th>733</th>\n",
       "      <td>44</td>\n",
       "      <td>0</td>\n",
       "      <td>2</td>\n",
       "      <td>108</td>\n",
       "      <td>141</td>\n",
       "      <td>0</td>\n",
       "      <td>1</td>\n",
       "      <td>175</td>\n",
       "      <td>0</td>\n",
       "      <td>0.6</td>\n",
       "      <td>1</td>\n",
       "      <td>0</td>\n",
       "      <td>2</td>\n",
       "      <td>1</td>\n",
       "      <td>-2.036173</td>\n",
       "    </tr>\n",
       "    <tr>\n",
       "      <th>739</th>\n",
       "      <td>52</td>\n",
       "      <td>1</td>\n",
       "      <td>0</td>\n",
       "      <td>128</td>\n",
       "      <td>255</td>\n",
       "      <td>0</td>\n",
       "      <td>1</td>\n",
       "      <td>161</td>\n",
       "      <td>1</td>\n",
       "      <td>0.0</td>\n",
       "      <td>2</td>\n",
       "      <td>1</td>\n",
       "      <td>3</td>\n",
       "      <td>0</td>\n",
       "      <td>0.174529</td>\n",
       "    </tr>\n",
       "    <tr>\n",
       "      <th>843</th>\n",
       "      <td>59</td>\n",
       "      <td>1</td>\n",
       "      <td>3</td>\n",
       "      <td>160</td>\n",
       "      <td>273</td>\n",
       "      <td>0</td>\n",
       "      <td>0</td>\n",
       "      <td>125</td>\n",
       "      <td>0</td>\n",
       "      <td>0.0</td>\n",
       "      <td>2</td>\n",
       "      <td>0</td>\n",
       "      <td>2</td>\n",
       "      <td>0</td>\n",
       "      <td>0.523587</td>\n",
       "    </tr>\n",
       "    <tr>\n",
       "      <th>878</th>\n",
       "      <td>54</td>\n",
       "      <td>1</td>\n",
       "      <td>0</td>\n",
       "      <td>120</td>\n",
       "      <td>188</td>\n",
       "      <td>0</td>\n",
       "      <td>1</td>\n",
       "      <td>113</td>\n",
       "      <td>0</td>\n",
       "      <td>1.4</td>\n",
       "      <td>1</td>\n",
       "      <td>1</td>\n",
       "      <td>3</td>\n",
       "      <td>0</td>\n",
       "      <td>-1.124743</td>\n",
       "    </tr>\n",
       "  </tbody>\n",
       "</table>\n",
       "<p>302 rows × 15 columns</p>\n",
       "</div>"
      ],
      "text/plain": [
       "     age  sex  cp  trestbps  chol  fbs  restecg  thalach  exang  oldpeak  \\\n",
       "0     52    1   0       125   212    0        1      168      0      1.0   \n",
       "1     53    1   0       140   203    1        0      155      1      3.1   \n",
       "2     70    1   0       145   174    0        1      125      1      2.6   \n",
       "3     61    1   0       148   203    0        1      161      0      0.0   \n",
       "4     62    0   0       138   294    1        1      106      0      1.9   \n",
       "..   ...  ...  ..       ...   ...  ...      ...      ...    ...      ...   \n",
       "723   68    0   2       120   211    0        0      115      0      1.5   \n",
       "733   44    0   2       108   141    0        1      175      0      0.6   \n",
       "739   52    1   0       128   255    0        1      161      1      0.0   \n",
       "843   59    1   3       160   273    0        0      125      0      0.0   \n",
       "878   54    1   0       120   188    0        1      113      0      1.4   \n",
       "\n",
       "     slope  ca  thal  target   z_score  \n",
       "0        2   2     3       0 -0.659332  \n",
       "1        0   0     3       0 -0.833861  \n",
       "2        0   0     3       0 -1.396233  \n",
       "3        2   1     3       0 -0.833861  \n",
       "4        1   3     2       0  0.930822  \n",
       "..     ...  ..   ...     ...       ...  \n",
       "723      1   0     2       1 -0.678724  \n",
       "733      1   0     2       1 -2.036173  \n",
       "739      2   1     3       0  0.174529  \n",
       "843      2   0     2       0  0.523587  \n",
       "878      1   1     3       0 -1.124743  \n",
       "\n",
       "[302 rows x 15 columns]"
      ]
     },
     "execution_count": 72,
     "metadata": {},
     "output_type": "execute_result"
    }
   ],
   "source": [
    "# df_heart.drop_duplicates(inplace=True) # Beaucoup de valeurs dupliqués --> on enlève\n",
    "# df_heart"
   ]
  },
  {
   "cell_type": "code",
   "execution_count": 58,
   "id": "02064769-9ac9-422c-bfe7-419ce80be87a",
   "metadata": {},
   "outputs": [],
   "source": [
    "# Q1 = df['chol'].quantile(0.25)\n",
    "# Q3 = df['chol'].quantile(0.75)\n",
    "# IQR = Q3 - Q1\n",
    "\n",
    "# df['chol'] = df['chol'].clip(lower=Q1 - 1.5 * IQR, upper=Q3 + 1.5 * IQR)\n"
   ]
  },
  {
   "cell_type": "code",
   "execution_count": 238,
   "id": "6f95652c-a3c6-4ae4-9866-1edd6bd673c8",
   "metadata": {},
   "outputs": [],
   "source": [
    "df_heart['z_score'] = stats.zscore(df_heart['chol'])\n",
    "outliers = df_heart[(df_heart['z_score'] > 3.5) | (df_heart['z_score'] < -3.5)]\n"
   ]
  },
  {
   "cell_type": "code",
   "execution_count": 239,
   "id": "5f876bec-46d2-4bfc-b783-fd4a6714938b",
   "metadata": {},
   "outputs": [],
   "source": [
    "X = df_heart.drop(['target', 'z_score'], axis = 1)\n",
    "y = df_heart['target']"
   ]
  },
  {
   "cell_type": "markdown",
   "id": "3d738e0b-0aea-4d6f-8c09-6d69c2ed38b3",
   "metadata": {},
   "source": [
    "## 4. Séparer nos données nettoyées en un train et un test split"
   ]
  },
  {
   "cell_type": "code",
   "execution_count": null,
   "id": "f49520af-b8d3-44ca-bea0-7a08d6c90a95",
   "metadata": {},
   "outputs": [],
   "source": [
    "# !pip install xgboost"
   ]
  },
  {
   "cell_type": "code",
   "execution_count": 240,
   "id": "6ebfe4ba-c9e1-46a8-8db8-7099e6347267",
   "metadata": {},
   "outputs": [],
   "source": [
    "# Importation des modèles importants, des métriques utiles ainsi que de train_test_split\n",
    "from sklearn.model_selection import train_test_split, GridSearchCV\n",
    "from sklearn.preprocessing import StandardScaler\n",
    "from sklearn.pipeline import Pipeline\n",
    "from sklearn.tree import DecisionTreeClassifier\n",
    "from sklearn.ensemble import RandomForestClassifier\n",
    "from sklearn.ensemble import GradientBoostingClassifier \n",
    "from sklearn.neighbors import KNeighborsClassifier\n",
    "from sklearn.ensemble import AdaBoostClassifier\n",
    "from sklearn.ensemble import BaggingClassifier\n",
    "from sklearn.ensemble import ExtraTreesClassifier\n",
    "from xgboost import XGBClassifier\n",
    "from sklearn.svm import SVC \n",
    "from sklearn.metrics import accuracy_score, classification_report, confusion_matrix, precision_score"
   ]
  },
  {
   "cell_type": "code",
   "execution_count": 241,
   "id": "5725be9c-5beb-4195-85c0-83501a35f545",
   "metadata": {},
   "outputs": [],
   "source": [
    "X_train,X_test,y_train,y_test = train_test_split(X,y,test_size = 0.2, random_state=42)"
   ]
  },
  {
   "cell_type": "markdown",
   "id": "ed0d07a1-9a5a-4844-9d81-2c533ec9ce2f",
   "metadata": {},
   "source": [
    "## 5. Nos premiers entrainements "
   ]
  },
  {
   "cell_type": "code",
   "execution_count": 242,
   "id": "36a65390-a9b9-4a9b-9a0f-ba50c302b2f0",
   "metadata": {},
   "outputs": [],
   "source": [
    "svc = SVC(kernel='sigmoid', gamma=1.0)\n",
    "knc = KNeighborsClassifier()\n",
    "dtc = DecisionTreeClassifier(max_depth=5)\n",
    "rfc = RandomForestClassifier(n_estimators=50, random_state=42)\n",
    "abc = AdaBoostClassifier(n_estimators=50, random_state=42)\n",
    "bc = BaggingClassifier(n_estimators=50, random_state=42)\n",
    "etc = ExtraTreesClassifier(n_estimators=50, random_state=42)\n",
    "gbdt = GradientBoostingClassifier(n_estimators=50,random_state=42)\n",
    "xgb = XGBClassifier(n_estimators=50,random_state=42)"
   ]
  },
  {
   "cell_type": "code",
   "execution_count": 243,
   "id": "98702820-ce07-4068-881d-b66e97efd865",
   "metadata": {},
   "outputs": [],
   "source": [
    "clfs = {\n",
    "    'SVC' : svc,\n",
    "    'KN' : knc,\n",
    "    'DT': dtc,\n",
    "    'RF': rfc,\n",
    "    'AdaBoost': abc,\n",
    "    'BgC': bc,\n",
    "    'ETC': etc,\n",
    "    'GBDT':gbdt,\n",
    "    'xgb':xgb\n",
    "}"
   ]
  },
  {
   "cell_type": "code",
   "execution_count": 244,
   "id": "247511f4-b2f3-4e65-91d6-cfd26d431a35",
   "metadata": {},
   "outputs": [],
   "source": [
    "class_names = ['No Disease', 'Heart Disease']"
   ]
  },
  {
   "cell_type": "code",
   "execution_count": 245,
   "id": "8a47dc8b-1ddc-40ab-8067-83396fdfa64c",
   "metadata": {},
   "outputs": [],
   "source": [
    "def train_model(model, X_train, y_train, X_test, y_test) : \n",
    "    # Permet d'afficher les performances de notre modèle\n",
    "    model.fit(X_train, y_train)\n",
    "    y_pred = model.predict(X_test)\n",
    "    accuracy = accuracy_score(y_test,y_pred)\n",
    "    precision = precision_score(y_test,y_pred)\n",
    "    cm = confusion_matrix(y_test,y_pred)\n",
    "    print(classification_report(y_test, y_pred))\n",
    "\n",
    "    sns.set(style='whitegrid')\n",
    "\n",
    "    # Configurer la figure pour le plot\n",
    "    plt.figure(figsize=(8, 6))\n",
    "    \n",
    "    # Afficher la matrice de confusion\n",
    "    sns.heatmap(cm, annot=True, fmt='d', cmap='Blues', cbar=False,\n",
    "                xticklabels=class_names, yticklabels=class_names)\n",
    "    \n",
    "    # Ajouter les étiquettes et le titre\n",
    "    plt.xlabel('Predicted label')\n",
    "    plt.ylabel('True label')\n",
    "    plt.title('Confusion Matrix')\n",
    "    \n",
    "    # Afficher le plot\n",
    "    plt.show()\n",
    "\n",
    "    return accuracy, precision"
   ]
  },
  {
   "cell_type": "code",
   "execution_count": null,
   "id": "420b23d0-d1d9-40bd-a901-182f07d018cf",
   "metadata": {
    "scrolled": true
   },
   "outputs": [],
   "source": [
    "for clf in clfs.values() :\n",
    "    accuracy, precision = train_model(clf, X_train, y_train, X_test, y_test)\n",
    "    print(accuracy, precision)\n",
    "    "
   ]
  },
  {
   "cell_type": "markdown",
   "id": "da117d34-3a01-49cd-844b-443738559863",
   "metadata": {},
   "source": [
    "Sans preprocessing et sans changer les hyperparamètres on a 82% de precision avec xgboost ! "
   ]
  },
  {
   "cell_type": "code",
   "execution_count": null,
   "id": "93cd0156-e955-4f08-87ea-5ca6aed1dbe3",
   "metadata": {},
   "outputs": [],
   "source": [
    "for model in clfs.values() : \n",
    "    pipeline = Pipeline([('scaler', StandardScaler()), ('estimator', model)])\n",
    "    accuracy, precision = train_model(pipeline, X_train, y_train, X_test, y_test)\n",
    "    print(accuracy, precision)"
   ]
  },
  {
   "cell_type": "markdown",
   "id": "4eeef199-0202-4963-bd0a-7aca4090856d",
   "metadata": {
    "scrolled": true
   },
   "source": [
    "Même en normalisant nos données, xgboost reste le modèle le plus performant \n",
    "Maintenant pour améliorer notre modèle il serait peut être pas mal de trouver les meilleurs hyperparamètres."
   ]
  },
  {
   "cell_type": "code",
   "execution_count": 247,
   "id": "b575d27d-abb1-4ee6-bee4-24739e817233",
   "metadata": {},
   "outputs": [
    {
     "name": "stdout",
     "output_type": "stream",
     "text": [
      "Fitting 5 folds for each of 6480 candidates, totalling 32400 fits\n",
      "Best Hyperparameters: {'colsample_bytree': 0.8, 'gamma': 0, 'learning_rate': 0.2, 'max_depth': 9, 'n_estimators': 50, 'reg_alpha': 0, 'reg_lambda': 1, 'subsample': 1.0}\n",
      "Best Score: 0.9841463414634146\n"
     ]
    }
   ],
   "source": [
    "param_grid = {\n",
    "    'n_estimators': [20, 50, 100, 200, 300],  # Nombre d'arbres\n",
    "    'max_depth': [3, 5, 7, 9],           # Profondeur maximale des arbres\n",
    "    'learning_rate': [0.01, 0.1, 0.2], # Taux d'apprentissage\n",
    "    'subsample': [0.8, 1.0],          # Fraction des échantillons utilisés pour entraîner chaque arbre\n",
    "    'colsample_bytree': [0.8, 1.0],   # Fraction des caractéristiques utilisées pour entraîner chaque arbre\n",
    "    'gamma': [0, 0.1, 0.2],           # Régularisation pour réduire le surapprentissage\n",
    "    'reg_alpha': [0, 0.01, 0.1],      # Régularisation L1 (Lasso)\n",
    "    'reg_lambda': [1, 1.5, 2]         # Régularisation L2 (Ridge)\n",
    "}\n",
    "grid_search = GridSearchCV(xgb,param_grid,scoring='accuracy', cv =5,n_jobs=-1, # Utiliser tous les cœurs disponibles pour accélérer le processus\n",
    "                           verbose=1)\n",
    "grid_search.fit(X_train, y_train)\n",
    "print(\"Best Hyperparameters:\", grid_search.best_params_)\n",
    "print(\"Best Score:\", grid_search.best_score_)"
   ]
  },
  {
   "cell_type": "code",
   "execution_count": 248,
   "id": "9455e1ae-1631-4673-b984-c9a0a06f3e7b",
   "metadata": {},
   "outputs": [],
   "source": [
    "best_model = grid_search.best_estimator_\n",
    "\n",
    "# Faire des prédictions avec le modèle optimisé\n",
    "y_pred = best_model.predict(X_test)\n",
    "\n",
    "# Évaluer la performance\n",
    "accuracy = accuracy_score(y_test, y_pred)"
   ]
  },
  {
   "cell_type": "code",
   "execution_count": 249,
   "id": "e9e00f63-3a52-4ee4-bb9e-4837965768b3",
   "metadata": {},
   "outputs": [
    {
     "name": "stdout",
     "output_type": "stream",
     "text": [
      "0.9853658536585366\n"
     ]
    }
   ],
   "source": [
    "print(accuracy)"
   ]
  },
  {
   "cell_type": "code",
   "execution_count": 250,
   "id": "8fd8e0b8-7c1b-414f-993f-ed4ce14ce206",
   "metadata": {},
   "outputs": [],
   "source": [
    "import joblib\n"
   ]
  },
  {
   "cell_type": "code",
   "execution_count": 252,
   "id": "95784836-b1df-4006-910d-0b30b1dd54b5",
   "metadata": {},
   "outputs": [
    {
     "data": {
      "text/plain": [
       "['heart_disease_model.pkl']"
      ]
     },
     "execution_count": 252,
     "metadata": {},
     "output_type": "execute_result"
    }
   ],
   "source": [
    "joblib.dump(best_model, 'heart_disease_model.pkl')\n"
   ]
  },
  {
   "cell_type": "code",
   "execution_count": null,
   "id": "effa1381-8fb0-47b3-9632-a127783054a1",
   "metadata": {},
   "outputs": [],
   "source": []
  }
 ],
 "metadata": {
  "kernelspec": {
   "display_name": "heartdesease",
   "language": "python",
   "name": "heartdesease"
  },
  "language_info": {
   "codemirror_mode": {
    "name": "ipython",
    "version": 3
   },
   "file_extension": ".py",
   "mimetype": "text/x-python",
   "name": "python",
   "nbconvert_exporter": "python",
   "pygments_lexer": "ipython3",
   "version": "3.12.4"
  }
 },
 "nbformat": 4,
 "nbformat_minor": 5
}
